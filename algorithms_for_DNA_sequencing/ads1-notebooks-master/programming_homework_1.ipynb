{
 "cells": [
  {
   "cell_type": "code",
   "execution_count": 1,
   "metadata": {},
   "outputs": [],
   "source": [
    "def naive(p, t):\n",
    "    occurrences = []\n",
    "    for i in range(len(t) - len(p) + 1):  # loop over alignments\n",
    "        match = True\n",
    "        for j in range(len(p)):  # loop over characters\n",
    "            if t[i+j] != p[j]:  # compare characters\n",
    "                match = False\n",
    "                break\n",
    "        if match:\n",
    "            occurrences.append(i)  # all chars matched; record\n",
    "    return occurrences\n"
   ]
  },
  {
   "cell_type": "code",
   "execution_count": 2,
   "metadata": {},
   "outputs": [],
   "source": [
    "def reverseComplement(s):\n",
    "    complement = {'A': 'T', 'C': 'G', 'G': 'C', 'T': 'A', 'N': 'N'}\n",
    "    t = ''\n",
    "    for base in s:\n",
    "        t = complement[base] + t\n",
    "    return t\n"
   ]
  },
  {
   "cell_type": "code",
   "execution_count": 3,
   "metadata": {},
   "outputs": [],
   "source": [
    "def readGenome(filename):\n",
    "    genome = ''\n",
    "    with open(filename, 'r') as f:\n",
    "        for line in f:\n",
    "            # ignore header line with genome information\n",
    "            if not line[0] == '>':\n",
    "                genome += line.rstrip()\n",
    "    return genome\n"
   ]
  },
  {
   "cell_type": "code",
   "execution_count": 4,
   "metadata": {},
   "outputs": [],
   "source": [
    "def readFastq(filename):\n",
    "    sequences = []\n",
    "    qualities = []\n",
    "    with open(filename) as fh:\n",
    "        while True:\n",
    "            fh.readline()  # skip name line\n",
    "            seq = fh.readline().rstrip()  # read base sequence\n",
    "            fh.readline()  # skip placeholder line\n",
    "            qual = fh.readline().rstrip() # base quality line\n",
    "            if len(seq) == 0:\n",
    "                break\n",
    "            sequences.append(seq)\n",
    "            qualities.append(qual)\n",
    "    return sequences, qualities\n"
   ]
  },
  {
   "cell_type": "markdown",
   "metadata": {},
   "source": [
    "First, implement a version of the naive exact matching algorithm that is strand-aware. That is, instead of looking only for occurrences of P in T, additionally look for occurrences of thereverse complement of P in T. If P is ACT, your function should find occurrences of both ACTand its reverse complement AGT in T.\n",
    "\n",
    "If P and its reverse complement are identical (e.g. AACGTT), then a given match offset should be reported only once. So if your new function is called naive_with_rc, then the old naivefunction and your new naive_with_rc function should return the same results when P equals its reverse complement."
   ]
  },
  {
   "cell_type": "code",
   "execution_count": 10,
   "metadata": {},
   "outputs": [],
   "source": [
    "def naive_rc(p, t):\n",
    "    occurences = naive(p,t)\n",
    "    if p != reverseComplement(p):\n",
    "        occurences.extend(naive(reverseComplement(p),t))\n",
    "    return occurences"
   ]
  },
  {
   "cell_type": "code",
   "execution_count": 11,
   "metadata": {},
   "outputs": [
    {
     "name": "stdout",
     "output_type": "stream",
     "text": [
      "[0, 4, 8]\n"
     ]
    }
   ],
   "source": [
    "test = naive_rc(\"AT\", \"ATGGATGGATGGTA\")\n",
    "print(test)"
   ]
  },
  {
   "cell_type": "code",
   "execution_count": 17,
   "metadata": {},
   "outputs": [],
   "source": [
    "lambdagenome = readGenome(\"lambda_virus.fa\")"
   ]
  },
  {
   "cell_type": "markdown",
   "metadata": {},
   "source": [
    " 1.\n",
    " Question 1\n",
    " How many times does AGGT or its reverse complement (ACCT) occur in the lambda virus genome? E.g. if AGGT occurs 10 times and ACCT occurs 12 times, you should report 22.\n"
   ]
  },
  {
   "cell_type": "code",
   "execution_count": 20,
   "metadata": {},
   "outputs": [
    {
     "name": "stdout",
     "output_type": "stream",
     "text": [
      "without rc, count is 150\n",
      "306\n"
     ]
    }
   ],
   "source": [
    "count_AGGT = naive_rc(\"AGGT\", lambdagenome)\n",
    "count_AGGT_norc = naive(\"AGGT\", lambdagenome)\n",
    "print(\"without rc, count is %d\" % len(count_AGGT_norc))\n",
    "print(len(count_AGGT))"
   ]
  },
  {
   "cell_type": "markdown",
   "metadata": {},
   "source": [
    "2. Question 2 How many times does TTAA or its reverse complement occur in the lambda virus genome?  \n",
    "\n",
    "Hint: TTAA and its reverse complement are equal, so remember not to double count."
   ]
  },
  {
   "cell_type": "code",
   "execution_count": 21,
   "metadata": {},
   "outputs": [
    {
     "name": "stdout",
     "output_type": "stream",
     "text": [
      "195\n"
     ]
    }
   ],
   "source": [
    "count_TTAA = naive_rc(\"TTAA\", lambdagenome)\n",
    "print(len(count_TTAA))"
   ]
  },
  {
   "cell_type": "markdown",
   "metadata": {},
   "source": [
    "3.\n",
    "Question 3\n",
    "\n",
    "What is the offset of the leftmost occurrence of ACTAAGT\\verb|ACTAAGT|ACTAAGT or its reverse complement in the Lambda virus genome?  E.g. if the leftmost occurrence of ACTAAGT\\verb|ACTAAGT|ACTAAGT is at offset 40 (0-based) and the leftmost occurrence of its reverse complement ACTTAGT\\verb|ACTTAGT|ACTTAGT is at offset 29, then report 29."
   ]
  },
  {
   "cell_type": "code",
   "execution_count": 28,
   "metadata": {},
   "outputs": [
    {
     "name": "stdout",
     "output_type": "stream",
     "text": [
      "[27733, 45382, 26028]\n",
      "26028\n"
     ]
    }
   ],
   "source": [
    "count = naive_rc(\"ACTAAGT\", lambdagenome)\n",
    "leftmost = min(count)\n",
    "print(count)\n",
    "print(leftmost)"
   ]
  },
  {
   "cell_type": "markdown",
   "metadata": {},
   "source": [
    "4.\n",
    "Question 4\n",
    "\n",
    "What is the offset of the leftmost occurrence of AGTCGA\\verb|AGTCGA|AGTCGA or its reverse complement in the Lambda virus genome?"
   ]
  },
  {
   "cell_type": "code",
   "execution_count": 29,
   "metadata": {},
   "outputs": [
    {
     "name": "stdout",
     "output_type": "stream",
     "text": [
      "[18005, 23320, 33657, 44806, 450, 1908, 2472, 41927, 45369]\n",
      "450\n"
     ]
    }
   ],
   "source": [
    "count = naive_rc(\"AGTCGA\", lambdagenome)\n",
    "leftmost = min(count)\n",
    "print(count)\n",
    "print(leftmost)"
   ]
  },
  {
   "cell_type": "markdown",
   "metadata": {},
   "source": [
    "5.\n",
    "Question 5\n",
    "\n",
    "As we will discuss, sometimes we would like to find approximate matches for P in T. That is, we want to find occurrences with one or more differences.\n",
    "\n",
    "For Questions 5 and 6, make a new version of the naive\\verb|naive|naive function called naive_2mm\\verb|naive_2mm|naive_2mm that allows up to 2 mismatches per occurrence. Unlike for the previous questions, do not consider the reverse complement here.  We're looking for approximate matches for P itself, not its reverse complement.\n",
    "\n",
    "￼\n",
    "\n",
    "For example, ACTTTA\\verb|ACTTTA|ACTTTA occurs twice in ACTTACTTGATAAAGT\\verb|ACTTACTTGATAAAGT|ACTTACTTGATAAAGT, once at offset 0 with 2 mismatches, and once at offset 4 with 1 mismatch. So naive_2mm('ACTTTA', 'ACTTACTTGATAAAGT')\\verb|naive_2mm('ACTTTA', 'ACTTACTTGATAAAGT')|naive_2mm(’ACTTTA’, ’ACTTACTTGATAAAGT’) should return the list [0, 4]\\verb|[0, 4]|[0, 4].\n",
    "\n",
    "How many times does TTCAAGCC\\verb|TTCAAGCC|TTCAAGCC occur in the Lambda virus genome when allowing up to 2 mismatches? "
   ]
  },
  {
   "cell_type": "code",
   "execution_count": 36,
   "metadata": {},
   "outputs": [
    {
     "name": "stdout",
     "output_type": "stream",
     "text": [
      "[0, 4]\n"
     ]
    }
   ],
   "source": [
    "def naive_2mm(p,t):\n",
    "    occurrences = []\n",
    "    for i in range(len(t) - len(p) + 1):  # loop over alignments\n",
    "        mismatch = 0\n",
    "        for j in range(len(p)):  # loop over characters\n",
    "            if t[i+j] != p[j]:  # compare characters\n",
    "                mismatch += 1\n",
    "        if mismatch <= 2:\n",
    "                occurrences.append(i)  # all chars matched; record\n",
    "    return occurrences\n",
    "test = naive_2mm(\"ACTTTA\",\"ACTTACTTGATAAAGT\")\n",
    "print(test)"
   ]
  },
  {
   "cell_type": "code",
   "execution_count": 37,
   "metadata": {},
   "outputs": [
    {
     "name": "stdout",
     "output_type": "stream",
     "text": [
      "191\n"
     ]
    }
   ],
   "source": [
    "matches = naive_2mm(\"TTCAAGCC\", lambdagenome)\n",
    "print(len(matches))"
   ]
  },
  {
   "cell_type": "markdown",
   "metadata": {},
   "source": [
    "6.\n",
    "Question 6\n",
    "\n",
    "What is the offset of the leftmost occurrence of AGGAGGTT\\verb|AGGAGGTT|AGGAGGTT in the Lambda virus genome when allowing up to 2 mismatches?"
   ]
  },
  {
   "cell_type": "code",
   "execution_count": 39,
   "metadata": {},
   "outputs": [
    {
     "name": "stdout",
     "output_type": "stream",
     "text": [
      "49\n"
     ]
    }
   ],
   "source": [
    "matches = naive_2mm(\"AGGAGGTT\", lambdagenome)\n",
    "leftmost = min(matches)\n",
    "\n",
    "print(leftmost)"
   ]
  }
 ],
 "metadata": {
  "kernelspec": {
   "display_name": "Python 3",
   "language": "python",
   "name": "python3"
  },
  "language_info": {
   "codemirror_mode": {
    "name": "ipython",
    "version": 3
   },
   "file_extension": ".py",
   "mimetype": "text/x-python",
   "name": "python",
   "nbconvert_exporter": "python",
   "pygments_lexer": "ipython3",
   "version": "3.8.5"
  }
 },
 "nbformat": 4,
 "nbformat_minor": 4
}
