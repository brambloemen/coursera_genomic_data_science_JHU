{
 "cells": [
  {
   "cell_type": "code",
   "execution_count": 1,
   "metadata": {},
   "outputs": [],
   "source": [
    "def readGenome(filename):\n",
    "    genome = ''\n",
    "    with open(filename, 'r') as f:\n",
    "        for line in f:\n",
    "            # ignore header line with genome information\n",
    "            if not line[0] == '>':\n",
    "                genome += line.rstrip()\n",
    "    return genome\n",
    "genome = readGenome('chr1.GRCh38.excerpt.fasta')"
   ]
  },
  {
   "cell_type": "markdown",
   "metadata": {},
   "source": [
    "Adapt the editDistance function we saw in practical (copied below) to answer questions 1 and 2 below. Your function should take arguments p (pattern), t (text) and should return the edit distance of the match between P and T with the fewest edits."
   ]
  },
  {
   "cell_type": "code",
   "execution_count": 2,
   "metadata": {},
   "outputs": [
    {
     "data": {
      "text/plain": [
       "2"
      ]
     },
     "execution_count": 2,
     "metadata": {},
     "output_type": "execute_result"
    }
   ],
   "source": [
    "def editDistance(x, y):\n",
    "    # Create distance matrix\n",
    "    D = []\n",
    "    for i in range(len(x)+1):\n",
    "        D.append([0]*(len(y)+1))\n",
    "    # Initialize first  column of matrix -> first row remains all 0 -> no bias for starting position of p-t alignment\n",
    "    for i in range(len(x)+1):\n",
    "        D[i][0] = i\n",
    "    # Fill in the rest of the matrix\n",
    "    for i in range(1, len(x)+1):\n",
    "        for j in range(1, len(y)+1):\n",
    "            distHor = D[i][j-1] + 1\n",
    "            distVer = D[i-1][j] + 1\n",
    "            if x[i-1] == y[j-1]:\n",
    "                distDiag = D[i-1][j-1]\n",
    "            else:\n",
    "                distDiag = D[i-1][j-1] + 1\n",
    "            D[i][j] = min(distHor, distVer, distDiag)\n",
    "    # Edit distance is the minimum value in the last row of D\n",
    "    return min(D[-1])\n",
    "\n",
    "p = \"GCGTATGC\"\n",
    "t = \"TATTGGCTATACGGTT\"\n",
    "editDistance(p, t)\n"
   ]
  },
  {
   "cell_type": "markdown",
   "metadata": {},
   "source": [
    "1.\n",
    "Question 1\n",
    "\n",
    "What is the edit distance of the best match between pattern GCTGATCGATCGTACG and the excerpt of human chromosome 1?  (Don't consider reverse complements.)"
   ]
  },
  {
   "cell_type": "code",
   "execution_count": 3,
   "metadata": {},
   "outputs": [
    {
     "name": "stdout",
     "output_type": "stream",
     "text": [
      "Wall time: 11.7 s\n"
     ]
    },
    {
     "data": {
      "text/plain": [
       "3"
      ]
     },
     "execution_count": 3,
     "metadata": {},
     "output_type": "execute_result"
    }
   ],
   "source": [
    "%%time\n",
    "p = \"GCTGATCGATCGTACG\"\n",
    "editDistance(p, genome)"
   ]
  },
  {
   "cell_type": "markdown",
   "metadata": {},
   "source": [
    "2.\n",
    "Question 2\n",
    "\n",
    "What is the edit distance of the best match between pattern GATTTACCAGATTGAG and the excerpt of human chromosome 1?  (Don't consider reverse complements.)"
   ]
  },
  {
   "cell_type": "code",
   "execution_count": 4,
   "metadata": {},
   "outputs": [
    {
     "data": {
      "text/plain": [
       "2"
      ]
     },
     "execution_count": 4,
     "metadata": {},
     "output_type": "execute_result"
    }
   ],
   "source": [
    "p = \"GATTTACCAGATTGAG\"\n",
    "editDistance(p, genome)"
   ]
  },
  {
   "cell_type": "markdown",
   "metadata": {},
   "source": [
    "3.\n",
    "Question 3\n",
    "\n",
    "In a practical, we saw a function for finding the longest exact overlap (suffix/prefix match) between two strings. The function is copied below."
   ]
  },
  {
   "cell_type": "code",
   "execution_count": 5,
   "metadata": {},
   "outputs": [],
   "source": [
    "def overlap(a, b, min_length=3):\n",
    "    \"\"\" Return length of longest suffix of 'a' matching\n",
    "        a prefix of 'b' that is at least 'min_length'\n",
    "        characters long.  If no such overlap exists,\n",
    "        return 0. \"\"\"\n",
    "    start = 0  # start all the way at the left\n",
    "    while True:\n",
    "        start = a.find(b[:min_length], start)  # look for b's prefix in a\n",
    "        if start == -1:  # no more occurrences to right\n",
    "            return 0\n",
    "        # found occurrence; check for full suffix/prefix match\n",
    "        if b.startswith(a[start:]):\n",
    "            return len(a)-start\n",
    "        start += 1  # move just past previous match"
   ]
  },
  {
   "cell_type": "markdown",
   "metadata": {},
   "source": [
    "Question 3\n",
    "\n",
    "In a practical, we saw a function for finding the longest exact overlap (suffix/prefix match) between two strings. The function is copied below.\n",
    "\n",
    "14\n",
    "\n",
    "Say we are concerned only with overlaps that (a) are exact matches (no differences allowed), and (b) are at least k bases long. To make an overlap graph, we could call overlap(a, b, min_length=k) on every possible pair of reads from the dataset.  Unfortunately, that will be very slow!\n",
    "\n",
    "Consider this: Say we are using k=6, and we have a read a whose length-6 suffix is GTCCTA.  Say GTCCTA does not occur in any other read in the dataset.  In other words, the 6-mer GTCCTA occurs at the end of read a and nowhere else.  It follows that a's suffix cannot possibly overlap the prefix of any other read by 6 or more characters.\n",
    "\n",
    "Put another way, if we want to find the overlaps involving a suffix of read a and a prefix of some other read, we can ignore any reads that don't contain the length-k suffix of a.  This is good news because it can save us a lot of work!\n",
    "\n",
    "Here is a suggestion for how to implement this idea.  You don't have to do it this way, but this might help you.  Let every k-mer in the dataset have an associated Python set object, which starts out empty.  We use a Python dictionary to associate each k-mer with its corresponding set. (1) For every k-mer in a read, we add the read to the set object corresponding to that k-mer.  If our read is GATTA and k=3, we would add GATTA to the set objects for GAT, ATT and TTA.  We do this for every read so that, at the end, each set contains all reads containing the corresponding k-mer.  (2) Now, for each read a, we find all overlaps involving a suffix of a.  To do this, we take a's length-k suffix, find all reads containing that k-mer (obtained from the corresponding set) and call overlap(a, b, min_length=k) for each.\n",
    "\n",
    "The most important point is that we do not call overlap(a, b, min_length=k) if b does not contain the length-k suffix of a.\n",
    "\n",
    "Download and parse the read sequences from the provided Phi-X FASTQ file. We'll just use their base sequences, so you can ignore read names and base qualities.  Also, no two reads in the FASTQ have the same sequence of bases.  This makes things simpler.\n",
    "\n",
    "https://d28rh4a8wq0iu5.cloudfront.net/ads1/data/ERR266411_1.for_asm.fastq\n",
    "\n",
    "Next, find all pairs of reads with an exact suffix/prefix match of length at least 30. Don't overlap a read with itself; if a read has a suffix/prefix match to itself, ignore that match.  Ignore reverse complements.\n",
    "\n",
    "    Hint 1: Your function should not take much more than 15 seconds to run on this 10,000-read dataset, and maybe much less than that.  (Our solution takes about 3 seconds.) If your function is much slower, there is a problem somewhere.\n",
    "    Hint 2: Remember not to overlap a read with itself. If you do, your answers will be too high.\n",
    "    Hint 3: You can test your implementation by making up small examples, then checking that (a) your implementation runs quickly, and (b) you get the same answer as if you had simply called overlap(a, b, min_length=k) on every pair of reads.  We also have provided a couple examples you can check against.\n",
    "\n",
    "Picture the overlap graph corresponding to the overlaps just calculated.  How many edges are in the graph?  In other words, how many distinct pairs of reads overlap?"
   ]
  },
  {
   "cell_type": "code",
   "execution_count": 6,
   "metadata": {},
   "outputs": [
    {
     "data": {
      "text/plain": [
       "range(0, 10000)"
      ]
     },
     "execution_count": 6,
     "metadata": {},
     "output_type": "execute_result"
    }
   ],
   "source": [
    "def readFastq(filename):\n",
    "    sequences = []\n",
    "    qualities = []\n",
    "    with open(filename) as fh:\n",
    "        while True:\n",
    "            fh.readline() # skip name line: .readline() method reads a single line\n",
    "            seq = fh.readline().rstrip() # read base sequence\n",
    "            fh.readline() # skip placeholder line\n",
    "            fh.readline() # skip base quality line\n",
    "            if len(seq) == 0:\n",
    "                break\n",
    "            sequences.append(seq)\n",
    "    return sequences\n",
    "PhiX_reads = readFastq(\"ERR266411_1.for_asm.fastq\")\n",
    "range(len(PhiX_reads))"
   ]
  },
  {
   "cell_type": "code",
   "execution_count": 7,
   "metadata": {},
   "outputs": [
    {
     "name": "stdout",
     "output_type": "stream",
     "text": [
      "['ATGCTA', 'ATGTTA']\n",
      "['ATGTTA']\n"
     ]
    }
   ],
   "source": [
    "# build a k-mer index of the reads\n",
    "def IndexReads(reads, k):\n",
    "    k_ind = {}\n",
    "    for i in range(len(reads)):\n",
    "        k_set = set()\n",
    "        n_kmers = len(reads[i])-k+1\n",
    "        for j in range(n_kmers):\n",
    "            kmer = reads[i][j:j+(k)]\n",
    "            k_set.add(reads[i])\n",
    "            if kmer not in k_ind: # check if key already exists\n",
    "                k_ind[kmer] = []\n",
    "            k_ind[kmer].append(reads[i])\n",
    "    return(k_ind)\n",
    "\n",
    "testreads = [\"ATGCTA\", \"ATGTTA\"]\n",
    "print(IndexReads(testreads, 3)[\"ATG\"])\n",
    "print(IndexReads(testreads, 3)[\"TTA\"])\n",
    "\n"
   ]
  },
  {
   "cell_type": "code",
   "execution_count": 11,
   "metadata": {},
   "outputs": [],
   "source": [
    "from collections import defaultdict\n",
    "\n",
    "#fast algo that uses the index\n",
    "def Index_Overlap(reads, k):\n",
    "    k_ind = IndexReads(reads, k) # build k-mer index of reads\n",
    "    total_nodes = defaultdict(set)\n",
    "    for r in reads:\n",
    "        suffix = r[-k:]\n",
    "        reads_w_suff = k_ind[suffix]\n",
    "        for o in reads_w_suff:\n",
    "            if o != r:\n",
    "                if overlap(r, o, k):\n",
    "                    total_nodes[r].add(o)\n",
    "    total_edges = 0\n",
    "    for read in total_nodes:\n",
    "        total_edges += len(total_nodes[read])\n",
    "    return(total_edges, len(total_nodes))\n",
    "    \"\"\"\n",
    "        this code didn't work properly: for each read the permutation is done, again and again\n",
    "        olaps = {} # initiate dictionary\n",
    "        for a, b in permutations(reads_w_suff, 2): # for each possible pair of reads\n",
    "            olen = overlap(a, b, min_length=k)\n",
    "            if olen > 0 not in total_olaps:\n",
    "                olaps[(a, b)] = olen # add reads:overlap_lengths to olaps dictionary\n",
    "                total_olaps.add((a, b))\n",
    "    \"\"\"    \n",
    "#slow algorithm, compares each read (for comparison)\n",
    "from itertools import permutations\n",
    "\n",
    "def naive_overlap_map(reads, k): #set of reads, minimum length of overlap\n",
    "    olaps = {} # initiate dictionary\n",
    "    for a, b in permutations(reads, 2): # for each possible pair of reads\n",
    "        olen = overlap(a, b, min_length=k)\n",
    "        if olen > 0:\n",
    "            olaps[(a, b)] = olen # add reads:overlap_lengths to olaps dictionary\n",
    "    return olaps\n",
    "\n"
   ]
  },
  {
   "cell_type": "code",
   "execution_count": 12,
   "metadata": {},
   "outputs": [
    {
     "name": "stdout",
     "output_type": "stream",
     "text": [
      "{('ATGCTAGTAGTA', 'GTAGTAATGTTA'): 6}\n",
      "(1, 1)\n"
     ]
    }
   ],
   "source": [
    "testreads = [\"ATGCTAGTAGTA\", \"GTAGTAATGTTA\", \"GTTAAGT\"] \n",
    "print(naive_overlap_map(testreads, 5))\n",
    "print(Index_Overlap(testreads, 5))"
   ]
  },
  {
   "cell_type": "code",
   "execution_count": 13,
   "metadata": {},
   "outputs": [
    {
     "name": "stdout",
     "output_type": "stream",
     "text": [
      "904746\n",
      "Wall time: 2.23 s\n"
     ]
    }
   ],
   "source": [
    "%%time\n",
    "phixtest_edges, phixtest_nodes = Index_Overlap(PhiX_reads, 30)\n",
    "print(phixtest_edges)"
   ]
  },
  {
   "cell_type": "markdown",
   "metadata": {},
   "source": [
    "4.\n",
    "Question 4\n",
    "\n",
    "Picture the overlap graph corresponding to the overlaps computed for the previous question. How many nodes in this graph have at least one outgoing edge?  (In other words, how many reads have a suffix involved in an overlap?)"
   ]
  },
  {
   "cell_type": "code",
   "execution_count": 15,
   "metadata": {},
   "outputs": [
    {
     "name": "stdout",
     "output_type": "stream",
     "text": [
      "7161\n"
     ]
    }
   ],
   "source": [
    "print(phixtest_nodes)"
   ]
  },
  {
   "cell_type": "code",
   "execution_count": null,
   "metadata": {},
   "outputs": [],
   "source": []
  }
 ],
 "metadata": {
  "kernelspec": {
   "display_name": "Python 3",
   "language": "python",
   "name": "python3"
  },
  "language_info": {
   "codemirror_mode": {
    "name": "ipython",
    "version": 3
   },
   "file_extension": ".py",
   "mimetype": "text/x-python",
   "name": "python",
   "nbconvert_exporter": "python",
   "pygments_lexer": "ipython3",
   "version": "3.8.5"
  }
 },
 "nbformat": 4,
 "nbformat_minor": 4
}
